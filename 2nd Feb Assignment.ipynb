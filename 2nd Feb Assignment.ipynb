{
 "cells": [
  {
   "cell_type": "markdown",
   "id": "0d53c71e-df05-4c5e-9bc5-7858deb55844",
   "metadata": {},
   "source": [
    "2 Feb Assignment\n"
   ]
  },
  {
   "cell_type": "markdown",
   "id": "629169b2-83a7-4885-9eab-110f88b015ee",
   "metadata": {},
   "source": [
    "Q1. Explain with an example each when to use a for loop and a while loop."
   ]
  },
  {
   "cell_type": "markdown",
   "id": "bc1dc5a2-5d22-43cf-b63b-0f6849ce2f3b",
   "metadata": {},
   "source": [
    "Solution:\n",
    "    The for loop is used when we already know the number of iterations, which means when we know how many times a statement has to be executed. That is why we have to specify the ending point in the for loop initialization. When we need to end the loop on a condition other than the number of times, we use a while loop.\n",
    "        Example :\n",
    "        For loop\n",
    "            Sum of first 10 numbers"
   ]
  },
  {
   "cell_type": "code",
   "execution_count": 1,
   "id": "f2bd9ef9-92d5-4b7c-837a-4737f686590a",
   "metadata": {},
   "outputs": [
    {
     "name": "stdout",
     "output_type": "stream",
     "text": [
      "55\n"
     ]
    }
   ],
   "source": [
    "sum=0\n",
    "for i in range(11):\n",
    "    sum=sum+i\n",
    "print(sum)"
   ]
  },
  {
   "cell_type": "code",
   "execution_count": 2,
   "id": "c0c92ffc-624f-4190-a508-c3e517d5417e",
   "metadata": {},
   "outputs": [
    {
     "name": "stdin",
     "output_type": "stream",
     "text": [
      "please enter number 10\n"
     ]
    },
    {
     "name": "stdout",
     "output_type": "stream",
     "text": [
      "55\n"
     ]
    }
   ],
   "source": [
    "num=int(input(\"please enter number\"))\n",
    "su=0\n",
    "i=1\n",
    "while i<=num:\n",
    "    su=su+i\n",
    "    i=i+1\n",
    "print(su)"
   ]
  },
  {
   "cell_type": "markdown",
   "id": "a00f3a30-fe41-41a9-ac14-2150cdf9c4c3",
   "metadata": {},
   "source": [
    "Q2. Write a python program to print the sum and product of the first 10 natural numbers using for\n",
    "and while loop."
   ]
  },
  {
   "cell_type": "code",
   "execution_count": 4,
   "id": "b48d98a3-e89e-4b00-90dc-fbe77755d2a7",
   "metadata": {},
   "outputs": [],
   "source": [
    "#Solution"
   ]
  },
  {
   "cell_type": "code",
   "execution_count": 5,
   "id": "ce756950-61bf-4687-a6a6-4821f36d7ff4",
   "metadata": {},
   "outputs": [],
   "source": [
    "#For loop"
   ]
  },
  {
   "cell_type": "code",
   "execution_count": 3,
   "id": "9b675a41-c4f5-47c2-893b-a6e973d211f6",
   "metadata": {},
   "outputs": [
    {
     "name": "stdout",
     "output_type": "stream",
     "text": [
      "Sum of 10 numbers is  55\n",
      "product of 10 numbers is 3628800\n"
     ]
    }
   ],
   "source": [
    "s=0\n",
    "p=1\n",
    "for i in range(1,11):\n",
    "    s=s+i\n",
    "    p=p*i\n",
    "print(\"Sum of 10 numbers is \",s)\n",
    "print(\"product of 10 numbers is\",p)"
   ]
  },
  {
   "cell_type": "code",
   "execution_count": 4,
   "id": "e74c5ba4-2b9c-4488-aaaa-11755deef71c",
   "metadata": {},
   "outputs": [
    {
     "name": "stdout",
     "output_type": "stream",
     "text": [
      "Sum of 10 numbers is  55\n",
      "product of 10 numbers is 3628800\n"
     ]
    }
   ],
   "source": [
    "#while loop\n",
    "i=1\n",
    "su=0\n",
    "pr=1\n",
    "while i<=10:\n",
    "    su=su+i\n",
    "    pr=pr*i\n",
    "    i=i+1\n",
    "print(\"Sum of 10 numbers is \",su)\n",
    "print(\"product of 10 numbers is\",pr)"
   ]
  },
  {
   "cell_type": "markdown",
   "id": "4f5c8dcd-3422-44ad-a582-aa69362a7afd",
   "metadata": {},
   "source": [
    "Q3. Create a python program to compute the electricity bill for a household.\n",
    "The per-unit charges in rupees are as follows: For the first 100 units, the user will be charged Rs. 4.5 per\n",
    "unit, for the next 100 units, the user will be charged Rs. 6 per unit, and for the next 100 units, the user will\n",
    "be charged Rs. 10 per unit, After 300 units and above the user will be charged Rs. 20 per unit.\n",
    "You are required to take the units of electricity consumed in a month from the user as input.\n",
    "Your program must pass this test case: when the unit of electricity consumed by the user in a month is\n",
    "310, the total electricity bill should be 2250."
   ]
  },
  {
   "cell_type": "code",
   "execution_count": 5,
   "id": "9d126ce6-5aeb-4de2-a47c-f1eef2b825e9",
   "metadata": {},
   "outputs": [
    {
     "name": "stdin",
     "output_type": "stream",
     "text": [
      "Please provide units consumed 310\n"
     ]
    },
    {
     "name": "stdout",
     "output_type": "stream",
     "text": [
      "Total electricity bill is 2250.0\n"
     ]
    }
   ],
   "source": [
    "unit=float(input(\"Please provide units consumed\"))\n",
    "if(unit<=100):\n",
    "    amount=unit*4.5\n",
    "elif(unit<=200):\n",
    "    amount=100*4.5+(unit-100)*6\n",
    "elif(unit<=300):\n",
    "    amount=100*4.5+100*6+(unit-200)*10\n",
    "else:\n",
    "    amount=100*4.5+100*6+100*10+(unit-300)*20\n",
    "print(\"Total electricity bill is\",amount)"
   ]
  },
  {
   "cell_type": "markdown",
   "id": "4f260554-719b-4251-8375-b8dfea1dee30",
   "metadata": {},
   "source": [
    "Q4. Create a list of numbers from 1 to 100. Use for loop and while loop to calculate the cube of each\n",
    "number and if the cube of that number is divisible by 4 or 5 then append that number in a list and print\n",
    "that list."
   ]
  },
  {
   "cell_type": "code",
   "execution_count": 7,
   "id": "1450cf90-2c89-4cc7-b9bc-ecb450fd4986",
   "metadata": {},
   "outputs": [
    {
     "name": "stdout",
     "output_type": "stream",
     "text": [
      "Cube of first 100 numbers is\n",
      " [1, 8, 27, 64, 125, 216, 343, 512, 729, 1000, 1331, 1728, 2197, 2744, 3375, 4096, 4913, 5832, 6859, 8000, 9261, 10648, 12167, 13824, 15625, 17576, 19683, 21952, 24389, 27000, 29791, 32768, 35937, 39304, 42875, 46656, 50653, 54872, 59319, 64000, 68921, 74088, 79507, 85184, 91125, 97336, 103823, 110592, 117649, 125000, 132651, 140608, 148877, 157464, 166375, 175616, 185193, 195112, 205379, 216000, 226981, 238328, 250047, 262144, 274625, 287496, 300763, 314432, 328509, 343000, 357911, 373248, 389017, 405224, 421875, 438976, 456533, 474552, 493039, 512000, 531441, 551368, 571787, 592704, 614125, 636056, 658503, 681472, 704969, 729000, 753571, 778688, 804357, 830584, 857375, 884736, 912673, 941192, 970299, 1000000]\n",
      "Numbers whose cube is divisible by 4 or 5 \n",
      " [2, 4, 5, 6, 8, 10, 12, 14, 15, 16, 18, 20, 22, 24, 25, 26, 28, 30, 32, 34, 35, 36, 38, 40, 42, 44, 45, 46, 48, 50, 52, 54, 55, 56, 58, 60, 62, 64, 65, 66, 68, 70, 72, 74, 75, 76, 78, 80, 82, 84, 85, 86, 88, 90, 92, 94, 95, 96, 98, 100]\n"
     ]
    }
   ],
   "source": [
    "#for loop\n",
    "new_list=[]\n",
    "l=[]\n",
    "for i in range(1,101):\n",
    "    l.append(i*i*i)\n",
    "    if((i*i*i)%4==0 or (i*i*i)%5==0):\n",
    "        new_list.append(i)\n",
    "print(\"Cube of first 100 numbers is\\n\",l)\n",
    "print(\"Numbers whose cube is divisible by 4 or 5 \\n\",new_list)"
   ]
  },
  {
   "cell_type": "code",
   "execution_count": 10,
   "id": "2eb7d747-eed2-4224-bca3-948e256ce144",
   "metadata": {},
   "outputs": [
    {
     "name": "stdout",
     "output_type": "stream",
     "text": [
      "Cube of first 100 numbers is\n",
      " [1, 8, 27, 64, 125, 216, 343, 512, 729, 1000, 1331, 1728, 2197, 2744, 3375, 4096, 4913, 5832, 6859, 8000, 9261, 10648, 12167, 13824, 15625, 17576, 19683, 21952, 24389, 27000, 29791, 32768, 35937, 39304, 42875, 46656, 50653, 54872, 59319, 64000, 68921, 74088, 79507, 85184, 91125, 97336, 103823, 110592, 117649, 125000, 132651, 140608, 148877, 157464, 166375, 175616, 185193, 195112, 205379, 216000, 226981, 238328, 250047, 262144, 274625, 287496, 300763, 314432, 328509, 343000, 357911, 373248, 389017, 405224, 421875, 438976, 456533, 474552, 493039, 512000, 531441, 551368, 571787, 592704, 614125, 636056, 658503, 681472, 704969, 729000, 753571, 778688, 804357, 830584, 857375, 884736, 912673, 941192, 970299, 1000000]\n",
      "Numbers whose cube is divisible by 4 or 5 \n",
      " [2, 4, 5, 6, 8, 10, 12, 14, 15, 16, 18, 20, 22, 24, 25, 26, 28, 30, 32, 34, 35, 36, 38, 40, 42, 44, 45, 46, 48, 50, 52, 54, 55, 56, 58, 60, 62, 64, 65, 66, 68, 70, 72, 74, 75, 76, 78, 80, 82, 84, 85, 86, 88, 90, 92, 94, 95, 96, 98, 100]\n"
     ]
    }
   ],
   "source": [
    "#while loop\n",
    "n_list=[]\n",
    "li=[]\n",
    "i=1\n",
    "while i<=100:\n",
    "    li.append(i*i*i)\n",
    "    if((i*i*i)%4==0 or (i*i*i)%5==0):\n",
    "        n_list.append(i)\n",
    "    i=i+1\n",
    "print(\"Cube of first 100 numbers is\\n\",li)\n",
    "print(\"Numbers whose cube is divisible by 4 or 5 \\n\",n_list)"
   ]
  },
  {
   "cell_type": "markdown",
   "id": "39d3a4cd-f85d-4e03-9741-471176aef341",
   "metadata": {},
   "source": [
    "Q5. Write a program to filter count vowels in the below-given string.\n",
    "string = \"I want to become a data scientist\""
   ]
  },
  {
   "cell_type": "code",
   "execution_count": 1,
   "id": "f62db3a8-35c0-4070-86c0-98a5a75223d8",
   "metadata": {},
   "outputs": [
    {
     "name": "stdout",
     "output_type": "stream",
     "text": [
      "Number of vowels in the string is  11\n"
     ]
    }
   ],
   "source": [
    "#Solution\n",
    "i=0\n",
    "count=0\n",
    "string = \"I want to become a data scientist\"\n",
    "while i<len(string):\n",
    "    if(string[i] in ['a','e','i','o','u']):\n",
    "       count=count+1\n",
    "    i=i+1\n",
    "print(\"Number of vowels in the string is \",count)"
   ]
  },
  {
   "cell_type": "code",
   "execution_count": null,
   "id": "43328573-cabc-49ec-86f3-0181d3042762",
   "metadata": {},
   "outputs": [],
   "source": []
  }
 ],
 "metadata": {
  "kernelspec": {
   "display_name": "Python 3 (ipykernel)",
   "language": "python",
   "name": "python3"
  },
  "language_info": {
   "codemirror_mode": {
    "name": "ipython",
    "version": 3
   },
   "file_extension": ".py",
   "mimetype": "text/x-python",
   "name": "python",
   "nbconvert_exporter": "python",
   "pygments_lexer": "ipython3",
   "version": "3.10.8"
  }
 },
 "nbformat": 4,
 "nbformat_minor": 5
}
